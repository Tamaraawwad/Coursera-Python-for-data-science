{
 "cells": [
  {
   "cell_type": "markdown",
   "id": "fd2863e3",
   "metadata": {
    "id": "fd2863e3"
   },
   "source": [
    "Course 7\n",
    "Coronavirus disease 2019 (COVID-19) is an infectious disease caused by severe acute respiratory syndrome coronavirus 2 (SARS-CoV-2). The disease was first identified in 2019 in Wuhan, China, and has since spread globally, resulting in the 2019–20 coronavirus pandemic. Common symptoms include fever, cough and shortness of breath. Muscle pain, sputum production and sore throat are less common. The rate of deaths per number of diagnosed cases is on average 3.4%, ranging from 0.2% in those less than 20 to approximately 15% in those over 80 years old.\n",
    "Data Source (Date wise) : 2019 Novel Coronavirus COVID-19 (2019-nCoV) Data Repository by Johns Hopkins CSSE\n",
    "Data Source:"
   ]
  },
  {
   "cell_type": "code",
   "execution_count": 13,
   "id": "2eeafda8-72a6-4b57-952f-5bdc6108ccb1",
   "metadata": {},
   "outputs": [],
   "source": [
    "import pandas as pd\n",
    "import numpy as np\n",
    "import matplotlib.pyplot as plt\n",
    "import seaborn as sns\n"
   ]
  },
  {
   "cell_type": "code",
   "execution_count": 19,
   "id": "df001d25-57ae-4882-b595-22209468ebd5",
   "metadata": {},
   "outputs": [
    {
     "name": "stdout",
     "output_type": "stream",
     "text": [
      "   FIPS Admin2 Province_State Country_Region          Last_Update       Lat  \\\n",
      "0   NaN    NaN            NaN    Afghanistan  2021-08-20 04:21:33  33.93911   \n",
      "1   NaN    NaN            NaN        Albania  2021-08-20 04:21:33  41.15330   \n",
      "2   NaN    NaN            NaN        Algeria  2021-08-20 04:21:33  28.03390   \n",
      "3   NaN    NaN            NaN        Andorra  2021-08-20 04:21:33  42.50630   \n",
      "4   NaN    NaN            NaN         Angola  2021-08-20 04:21:33 -11.20270   \n",
      "\n",
      "       Long_  Confirmed  Deaths  Recovered  Active Combined_Key  \\\n",
      "0  67.709953     152411    7047        NaN     NaN  Afghanistan   \n",
      "1  20.168300     137597    2473        NaN     NaN      Albania   \n",
      "2   1.659600     190078    4929        NaN     NaN      Algeria   \n",
      "3   1.521800      14981     129        NaN     NaN      Andorra   \n",
      "4  17.873900      45325    1133        NaN     NaN       Angola   \n",
      "\n",
      "   Incident_Rate  Case_Fatality_Ratio  \n",
      "0     391.516813             4.623682  \n",
      "1    4781.326013             1.797278  \n",
      "2     433.462894             2.593146  \n",
      "3   19389.115382             0.861091  \n",
      "4     137.907352             2.499724  \n"
     ]
    }
   ],
   "source": [
    "import pandas as pd\n",
    "\n",
    "# Define the correct file URL\n",
    "file_path = \"https://raw.githubusercontent.com/CSSEGISandData/COVID-19/master/csse_covid_19_data/csse_covid_19_daily_reports/08-19-2021.csv\"\n",
    "\n",
    "# Read the CSV file from the URL\n",
    "df = pd.read_csv(file_path)\n",
    "\n",
    "# Display the first 5 rows to check the data\n",
    "print(df.head())"
   ]
  },
  {
   "cell_type": "markdown",
   "id": "925ee24d",
   "metadata": {
    "id": "925ee24d"
   },
   "source": [
    "1.\tWrite a Python program to display first 5 rows from COVID-19 dataset. Also print the dataset information and check the missing values."
   ]
  },
  {
   "cell_type": "code",
   "execution_count": 21,
   "id": "e17ccb05",
   "metadata": {
    "id": "e17ccb05",
    "outputId": "c688213f-1ee7-49d8-b35c-85165201c419",
    "scrolled": true
   },
   "outputs": [
    {
     "ename": "NameError",
     "evalue": "name 'filename' is not defined",
     "output_type": "error",
     "traceback": [
      "\u001b[1;31m---------------------------------------------------------------------------\u001b[0m",
      "\u001b[1;31mNameError\u001b[0m                                 Traceback (most recent call last)",
      "Cell \u001b[1;32mIn[21], line 1\u001b[0m\n\u001b[1;32m----> 1\u001b[0m df \u001b[38;5;241m=\u001b[39m pd\u001b[38;5;241m.\u001b[39mread_csv(filename)\n\u001b[0;32m      2\u001b[0m df\u001b[38;5;241m.\u001b[39mhead(\u001b[38;5;241m5\u001b[39m)\n",
      "\u001b[1;31mNameError\u001b[0m: name 'filename' is not defined"
     ]
    }
   ],
   "source": [
    "df = pd.read_csv(filename)\n",
    "df.head(5)"
   ]
  },
  {
   "cell_type": "code",
   "execution_count": null,
   "id": "9280acb3",
   "metadata": {
    "id": "9280acb3",
    "outputId": "826229b0-9064-4782-f55a-394302b6388f",
    "scrolled": true
   },
   "outputs": [],
   "source": [
    "df.isna().sum()"
   ]
  },
  {
   "cell_type": "code",
   "execution_count": null,
   "id": "e7c4f136",
   "metadata": {
    "id": "e7c4f136",
    "outputId": "d394a507-9747-44a0-87d0-ae2ab063d1be",
    "scrolled": true
   },
   "outputs": [],
   "source": [
    "df.info()"
   ]
  },
  {
   "cell_type": "code",
   "execution_count": null,
   "id": "ff828409-1745-483b-a31c-4aaca1ed1a6f",
   "metadata": {},
   "outputs": [],
   "source": []
  },
  {
   "cell_type": "code",
   "execution_count": null,
   "id": "f142f0b7-a8ac-4573-b7c6-c6643563e0e5",
   "metadata": {
    "scrolled": true
   },
   "outputs": [],
   "source": [
    "df.describe(include=\"all\")"
   ]
  },
  {
   "cell_type": "markdown",
   "id": "ada3d147",
   "metadata": {
    "id": "ada3d147"
   },
   "source": [
    "2.\tWrite a python program to replace all the missing values with “Tobefound” for province column."
   ]
  },
  {
   "cell_type": "code",
   "execution_count": null,
   "id": "cc71e301-2e11-498b-a760-3736d08b0980",
   "metadata": {
    "scrolled": true
   },
   "outputs": [],
   "source": [
    "# Replace missing values in 'province' column with 'Tobefound'\n",
    "df[\"Province_State\"].fillna(\"Tobefound\", inplace=True)\n",
    "\n",
    "df.isna().sum()"
   ]
  },
  {
   "cell_type": "markdown",
   "id": "3a044bd3",
   "metadata": {
    "id": "3a044bd3"
   },
   "source": [
    "3.\tNormalize the values for “Recovered” column as per the z-score."
   ]
  },
  {
   "cell_type": "code",
   "execution_count": null,
   "id": "fe8fae2f-2ed8-45e3-a2a8-24eaac8f8553",
   "metadata": {
    "scrolled": true
   },
   "outputs": [],
   "source": [
    "print(df[\"Recovered\"].fillna(df[\"Recovered\"].mean(), inplace=True))\n",
    "\n",
    "from scipy.stats import zscore\n",
    "# Normalize 'Recovered' column using z-score\n",
    "df[\"Recovered_zscore\"] = zscore(df[\"Recovered\"])\n",
    "\n",
    "# Display the updated DataFrame\n",
    "print(df[\"Recovered_zscore\"])\n"
   ]
  },
  {
   "cell_type": "markdown",
   "id": "ee124e07",
   "metadata": {
    "id": "ee124e07"
   },
   "source": [
    "4.\tCreate bin values for “Recovered” column in the data set."
   ]
  },
  {
   "cell_type": "code",
   "execution_count": null,
   "id": "cf3e1d7a-07c8-45ce-ab8a-e1972c7c854d",
   "metadata": {
    "scrolled": true
   },
   "outputs": [],
   "source": [
    "df[\"Recovered_bins\"] = pd.qcut(df[\"Recovered\"], q=3, labels=[\"Low\", \"Medium\", \"High\"])\n",
    "\n",
    "# Display the updated DataFrame\n",
    "print(df[\"Recovered_bins\"])\n"
   ]
  },
  {
   "cell_type": "code",
   "execution_count": null,
   "id": "fc21870a-7989-4a8e-9c35-58cce8027f29",
   "metadata": {},
   "outputs": [],
   "source": [
    "import matplotlib.pyplot as plt\n",
    "\n",
    "# Drop NaN values in 'Recovered' column\n",
    "df_clean = df[\"Recovered\"].dropna()\n",
    "\n",
    "# Create histogram\n",
    "plt.hist(df_clean, bins=3, edgecolor=\"black\")\n",
    "\n",
    "# Add labels and title\n",
    "plt.xlabel(\"Recovered Cases\")\n",
    "plt.ylabel(\"Frequency\")\n",
    "plt.title(\"Histogram of Recovered Cases\")\n",
    "\n",
    "# Show the plot\n",
    "plt.show()"
   ]
  },
  {
   "cell_type": "markdown",
   "id": "1be95732",
   "metadata": {
    "id": "1be95732"
   },
   "source": [
    "5.\tWrite a Python program to get the maximum number of confirmed, deaths, recovered and active cases of Novel Coronavirus (COVID-19) Country wise."
   ]
  },
  {
   "cell_type": "code",
   "execution_count": null,
   "id": "fc06554a-2d53-4631-b661-89a2fbb37fcd",
   "metadata": {},
   "outputs": [],
   "source": [
    "print(f\"The maximum for confirmed cases is {df['Confirmed'].max()}\")\n",
    "print(f\"The maximum for Deaths cases is {df['Deaths'].max()}\")\n",
    "print(f\"The maximum for Recovered cases is {df['Recovered'].max()}\")\n",
    "print(f\"The maximum for Active cases is {df['Active'].max()}\")"
   ]
  },
  {
   "cell_type": "markdown",
   "id": "01a72a7e",
   "metadata": {
    "id": "01a72a7e"
   },
   "source": [
    "6.\t Write a Python program to get the total number of confirmed deaths and recovered people of Novel Coronavirus (COVID-19) cases Country/Region - Province/State wise"
   ]
  },
  {
   "cell_type": "code",
   "execution_count": null,
   "id": "e6cb7d62-a26a-45fd-8ac1-910ea1419f04",
   "metadata": {
    "scrolled": true
   },
   "outputs": [],
   "source": [
    "# First, ensure there are no missing values in the relevant columns for aggregation\n",
    "df = df.dropna(subset=[\"Confirmed\", \"Deaths\", \"Recovered\"])\n",
    "\n",
    "# Group by 'Country_Region' and 'Province_State' and aggregate the data\n",
    "grouped_df = df.groupby([\"Country_Region\", \"Province_State\"]).agg(\n",
    "    {\n",
    "        \"Confirmed\": \"sum\",\n",
    "        \"Deaths\": \"sum\",\n",
    "        \"Recovered\": \"sum\",\n",
    "        \"Active\": \"sum\"\n",
    "    }).reset_index()\n",
    "\n",
    "# Display the grouped DataFrame\n",
    "grouped_df[\"Recovered\"] = grouped_df[\"Recovered\"].astype(int)\n",
    "grouped_df[\"Active\"] = grouped_df[\"Active\"].astype(int)\n",
    "print(grouped_df)"
   ]
  },
  {
   "cell_type": "markdown",
   "id": "42a494b4",
   "metadata": {
    "id": "42a494b4"
   },
   "source": [
    "7.\tWrite a Python program to get the country wise (country name taken as input from user) cases of confirmed, deaths and recovered cases of Novel Coronavirus (COVID-19)."
   ]
  },
  {
   "cell_type": "code",
   "execution_count": null,
   "id": "e16b09b1-6fe4-4351-87af-093090aed4ba",
   "metadata": {},
   "outputs": [],
   "source": [
    "# Get country name from user\n",
    "# Get country name as input from the user\n",
    "country = input(\"Enter the country name: \")\n",
    "\n",
    "# Filter the dataset for the given country and aggregate the values\n",
    "country_data = df[df['Province_State'] == country].agg({\n",
    "    'Confirmed': 'sum',\n",
    "    'Deaths': 'sum',\n",
    "    'Recovered': 'sum'\n",
    "})\n",
    "\n",
    "# Display the results\n",
    "print(f\"COVID-19 Data for {country}:\")\n",
    "print(country_data)"
   ]
  },
  {
   "cell_type": "markdown",
   "id": "1f6c54b6",
   "metadata": {
    "id": "1f6c54b6"
   },
   "source": [
    "8.\tWrite a Python program to get the country wise deaths cases of Novel Coronavirus (COVID-19)."
   ]
  },
  {
   "cell_type": "code",
   "execution_count": null,
   "id": "cda29179-1243-42da-9695-dc3fd1add3f5",
   "metadata": {},
   "outputs": [],
   "source": [
    " Group by Country_Region and sum the Deaths column\n",
    "country_deaths = df.groupby(\"Country_Region\")[\"Deaths\"].sum().reset_index()\n"
   ]
  },
  {
   "cell_type": "markdown",
   "id": "c50b9082",
   "metadata": {
    "id": "c50b9082"
   },
   "source": [
    "9.\tWrite a Python program to list countries with no cases of Novel Coronavirus (COVID-19) recovered."
   ]
  },
  {
   "cell_type": "code",
   "execution_count": null,
   "id": "bc77b0ff-c082-4cb2-8198-2aeeef8c8844",
   "metadata": {},
   "outputs": [],
   "source": []
  },
  {
   "cell_type": "markdown",
   "id": "cf24c490",
   "metadata": {
    "id": "cf24c490"
   },
   "source": [
    "10.\t Write a Python program to list countries where all cases of Novel Coronavirus (COVID-19) died."
   ]
  },
  {
   "cell_type": "code",
   "execution_count": null,
   "id": "011cc7b6-8f04-4ce8-86e8-431302b81392",
   "metadata": {},
   "outputs": [],
   "source": []
  },
  {
   "cell_type": "markdown",
   "id": "80813b43",
   "metadata": {
    "id": "80813b43"
   },
   "source": [
    "11.\t Write a Python program to list countries with all cases of Novel Coronavirus (COVID-19) recovered."
   ]
  },
  {
   "cell_type": "markdown",
   "id": "a89e896c",
   "metadata": {
    "id": "a89e896c"
   },
   "source": [
    "12.\t Write a Python program to get the top 10 countries data (Last Update, Country/Region, Confirmed, Deaths, Recovered) of Novel Coronavirus (COVID-19)."
   ]
  },
  {
   "cell_type": "markdown",
   "id": "adb253d1",
   "metadata": {
    "id": "adb253d1"
   },
   "source": [
    "13.\tWrite a Python program to create a plot (lines) of total deaths, confirmed, recovered and active cases Country wise where deaths greater than 150."
   ]
  },
  {
   "cell_type": "code",
   "execution_count": null,
   "id": "2029b8ef",
   "metadata": {
    "id": "2029b8ef"
   },
   "outputs": [],
   "source": []
  }
 ],
 "metadata": {
  "colab": {
   "provenance": []
  },
  "kernelspec": {
   "display_name": "Python [conda env:base] *",
   "language": "python",
   "name": "conda-base-py"
  },
  "language_info": {
   "codemirror_mode": {
    "name": "ipython",
    "version": 3
   },
   "file_extension": ".py",
   "mimetype": "text/x-python",
   "name": "python",
   "nbconvert_exporter": "python",
   "pygments_lexer": "ipython3",
   "version": "3.12.7"
  }
 },
 "nbformat": 4,
 "nbformat_minor": 5
}
