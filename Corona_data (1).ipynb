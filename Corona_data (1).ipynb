{
 "cells": [
  {
   "cell_type": "markdown",
   "metadata": {
    "id": "L-dFgumAi602"
   },
   "source": [
    "Course 7 Week 2\n",
    "Activity 1\n",
    "Coronavirus disease 2019 (COVID-19) is an infectious disease caused by\n",
    "severe acute respiratory syndrome coronavirus 2 (SARS-CoV-2). The disease\n",
    "was first identified in 2019 in Wuhan, China, and has since spread globally,\n",
    "resulting in the 2019–20 coronavirus pandemic. Common symptoms include\n",
    "fever, cough and shortness of breath. Muscle pain, sputum production and\n",
    "sore throat are less common. The rate of deaths per number of diagnosed\n",
    "cases is on average 3.4%, ranging from 0.2% in those less than 20 to\n",
    "approximately 15% in those over 80 years old.\n",
    "Data Source (Date wise) : 2019 Novel Coronavirus COVID-19 (2019-nCoV)\n",
    "Data Repository by Johns Hopkins CSSE\n",
    "Data\n",
    "Field description\n",
    "● Province/State: China - province name; US/Canada/Australia/ - city name,\n",
    "state/province name; Others - name of the event (e.g., \"Diamond Princess\" cruise ship);\n",
    "other countries - blank.\n",
    "● Country/Region: country/region name conforming to WHO (will be updated).\n",
    "● Last Update: MM/DD/YYYY HH:mm (24 hour format, in UTC).\n",
    "● Confirmed: the number of confirmed cases. For Hubei Province: from Feb 13 (GMT +8),\n",
    "we report both clinically diagnosed and lab-confirmed cases. For lab-confirmed cases\n",
    "only (Before Feb 17), please refer to who_covid_19_situation_reports. For Italy, diagnosis\n",
    "standard might be changed since Feb 27 to \"slow the growth of new case numbers.\"\n",
    "(Source)\n",
    "● Deaths: the number of deaths.\n",
    "● Recovered: the number of recovered cases.\n",
    "The dataset is attached as a separate file. Please use Google Colab to solve all the questions below:"
   ]
  },
  {
   "cell_type": "code",
   "execution_count": 15,
   "metadata": {
    "colab": {
     "base_uri": "https://localhost:8080/"
    },
    "id": "CRpETfVcindY",
    "outputId": "8eb89622-4266-4199-d8e1-0ad552fad422"
   },
   "outputs": [
    {
     "name": "stdout",
     "output_type": "stream",
     "text": [
      "<class 'pandas.core.frame.DataFrame'>\n",
      "RangeIndex: 4016 entries, 0 to 4015\n",
      "Data columns (total 14 columns):\n",
      " #   Column               Non-Null Count  Dtype  \n",
      "---  ------               --------------  -----  \n",
      " 0   FIPS                 3268 non-null   float64\n",
      " 1   Admin2               3272 non-null   object \n",
      " 2   Province_State       3837 non-null   object \n",
      " 3   Country_Region       4016 non-null   object \n",
      " 4   Last_Update          4016 non-null   object \n",
      " 5   Lat                  3925 non-null   float64\n",
      " 6   Long_                3925 non-null   float64\n",
      " 7   Confirmed            4016 non-null   int64  \n",
      " 8   Deaths               4016 non-null   int64  \n",
      " 9   Recovered            4016 non-null   int64  \n",
      " 10  Active               0 non-null      float64\n",
      " 11  Combined_Key         4016 non-null   object \n",
      " 12  Incident_Rate        3922 non-null   float64\n",
      " 13  Case_Fatality_Ratio  3974 non-null   float64\n",
      "dtypes: float64(6), int64(3), object(5)\n",
      "memory usage: 439.4+ KB\n"
     ]
    }
   ],
   "source": [
    "#Write a Python program to display first 5 rows from COVID-19 dataset.\n",
    "import pandas as pd\n",
    "import numpy as np\n",
    "import matplotlib.pyplot as plt\n",
    "import seaborn as sns\n",
    "df=pd.read_csv(\"Corona2.csv\")\n",
    "df.info()\n"
   ]
  },
  {
   "cell_type": "code",
   "execution_count": 16,
   "metadata": {
    "colab": {
     "base_uri": "https://localhost:8080/"
    },
    "id": "qPJIk8oiBcRy",
    "outputId": "a89c1210-499b-4b43-ba34-14ee07913f65"
   },
   "outputs": [
    {
     "name": "stdout",
     "output_type": "stream",
     "text": [
      "                FIPS      Admin2 Province_State Country_Region  \\\n",
      "count    3268.000000        3272           3837           4016   \n",
      "unique           NaN        1927            598            201   \n",
      "top              NaN  Unassigned          Texas             US   \n",
      "freq             NaN          51            255           3279   \n",
      "mean    32405.943390         NaN            NaN            NaN   \n",
      "std     18056.381177         NaN            NaN            NaN   \n",
      "min        60.000000         NaN            NaN            NaN   \n",
      "25%     19048.500000         NaN            NaN            NaN   \n",
      "50%     30068.000000         NaN            NaN            NaN   \n",
      "75%     47041.500000         NaN            NaN            NaN   \n",
      "max     99999.000000         NaN            NaN            NaN   \n",
      "\n",
      "            Last_Update          Lat        Long_     Confirmed  \\\n",
      "count              4016  3925.000000  3925.000000  4.016000e+03   \n",
      "unique                9          NaN          NaN           NaN   \n",
      "top     2023-01-03 4:21          NaN          NaN           NaN   \n",
      "freq               4002          NaN          NaN           NaN   \n",
      "mean                NaN    35.736183   -71.109728  1.646409e+05   \n",
      "std                 NaN    13.441327    55.361480  1.046512e+06   \n",
      "min                 NaN   -71.949900  -178.116500  0.000000e+00   \n",
      "25%                 NaN    33.191535   -96.595639  3.737500e+03   \n",
      "50%                 NaN    37.895700   -86.717326  1.050600e+04   \n",
      "75%                 NaN    42.176955   -77.357900  4.577550e+04   \n",
      "max                 NaN    71.706900   178.065000  3.830609e+07   \n",
      "\n",
      "               Deaths     Recovered  Active Combined_Key  Incident_Rate  \\\n",
      "count     4016.000000  4.016000e+03     0.0         4016    3922.000000   \n",
      "unique            NaN           NaN     NaN         4016            NaN   \n",
      "top               NaN           NaN     NaN  Afghanistan            NaN   \n",
      "freq              NaN           NaN     NaN            1            NaN   \n",
      "mean      1667.289841  1.629737e+05     NaN          NaN   27693.653663   \n",
      "std       8705.463362  1.040252e+06     NaN          NaN   10388.048975   \n",
      "min          0.000000 -4.830000e+03     NaN          NaN       0.000000   \n",
      "25%         46.000000  3.677500e+03     NaN          NaN   23345.450938   \n",
      "50%        130.500000  1.033450e+04     NaN          NaN   28611.368830   \n",
      "75%        465.250000  4.471575e+04     NaN          NaN   33164.946218   \n",
      "max     183348.000000  3.814745e+07     NaN          NaN  218343.195300   \n",
      "\n",
      "        Case_Fatality_Ratio  \n",
      "count           3974.000000  \n",
      "unique                  NaN  \n",
      "top                     NaN  \n",
      "freq                    NaN  \n",
      "mean               3.396156  \n",
      "std               93.482133  \n",
      "min                0.000000  \n",
      "25%                0.892777  \n",
      "50%                1.287045  \n",
      "75%                1.739872  \n",
      "max             5651.724138  \n",
      "FIPS                    748\n",
      "Admin2                  744\n",
      "Province_State          179\n",
      "Country_Region            0\n",
      "Last_Update               0\n",
      "Lat                      91\n",
      "Long_                    91\n",
      "Confirmed                 0\n",
      "Deaths                    0\n",
      "Recovered                 0\n",
      "Active                 4016\n",
      "Combined_Key              0\n",
      "Incident_Rate            94\n",
      "Case_Fatality_Ratio      42\n",
      "dtype: int64\n"
     ]
    }
   ],
   "source": [
    "#print the dataset information and check the missing values.\n",
    "print(df.describe(include='all'))\n",
    "print(df.isnull().sum())"
   ]
  },
  {
   "cell_type": "code",
   "execution_count": 17,
   "metadata": {
    "colab": {
     "base_uri": "https://localhost:8080/"
    },
    "id": "5CyCaQH4BPHL",
    "outputId": "aeea3a64-b2dd-4044-ea97-6e42c0889567"
   },
   "outputs": [
    {
     "name": "stdout",
     "output_type": "stream",
     "text": [
      "FIPS                    748\n",
      "Admin2                  744\n",
      "Province_State            0\n",
      "Country_Region            0\n",
      "Last_Update               0\n",
      "Lat                      91\n",
      "Long_                    91\n",
      "Confirmed                 0\n",
      "Deaths                    0\n",
      "Recovered                 0\n",
      "Active                 4016\n",
      "Combined_Key              0\n",
      "Incident_Rate            94\n",
      "Case_Fatality_Ratio      42\n",
      "dtype: int64\n"
     ]
    },
    {
     "name": "stderr",
     "output_type": "stream",
     "text": [
      "C:\\Users\\HP\\AppData\\Local\\Temp\\ipykernel_28020\\11233151.py:2: FutureWarning: A value is trying to be set on a copy of a DataFrame or Series through chained assignment using an inplace method.\n",
      "The behavior will change in pandas 3.0. This inplace method will never work because the intermediate object on which we are setting values always behaves as a copy.\n",
      "\n",
      "For example, when doing 'df[col].method(value, inplace=True)', try using 'df.method({col: value}, inplace=True)' or df[col] = df[col].method(value) instead, to perform the operation inplace on the original object.\n",
      "\n",
      "\n",
      "  df['Province_State'].fillna('Tobefound', inplace=True)\n"
     ]
    }
   ],
   "source": [
    "\n",
    "# Replace missing values in the 'province' column with 'Tobefound'\n",
    "df['Province_State'].fillna('Tobefound', inplace=True)\n",
    "print(df.isnull().sum())"
   ]
  },
  {
   "cell_type": "code",
   "execution_count": 18,
   "metadata": {
    "colab": {
     "base_uri": "https://localhost:8080/",
     "height": 597
    },
    "id": "Z1iyFoHpBqu1",
    "outputId": "7c2ef948-3c69-40f6-959d-d3778b71e34f"
   },
   "outputs": [
    {
     "data": {
      "text/html": [
       "<div>\n",
       "<style scoped>\n",
       "    .dataframe tbody tr th:only-of-type {\n",
       "        vertical-align: middle;\n",
       "    }\n",
       "\n",
       "    .dataframe tbody tr th {\n",
       "        vertical-align: top;\n",
       "    }\n",
       "\n",
       "    .dataframe thead th {\n",
       "        text-align: right;\n",
       "    }\n",
       "</style>\n",
       "<table border=\"1\" class=\"dataframe\">\n",
       "  <thead>\n",
       "    <tr style=\"text-align: right;\">\n",
       "      <th></th>\n",
       "      <th>FIPS</th>\n",
       "      <th>Admin2</th>\n",
       "      <th>Province_State</th>\n",
       "      <th>Country_Region</th>\n",
       "      <th>Last_Update</th>\n",
       "      <th>Lat</th>\n",
       "      <th>Long_</th>\n",
       "      <th>Confirmed</th>\n",
       "      <th>Deaths</th>\n",
       "      <th>Recovered</th>\n",
       "      <th>Active</th>\n",
       "      <th>Combined_Key</th>\n",
       "      <th>Incident_Rate</th>\n",
       "      <th>Case_Fatality_Ratio</th>\n",
       "    </tr>\n",
       "  </thead>\n",
       "  <tbody>\n",
       "    <tr>\n",
       "      <th>0</th>\n",
       "      <td>NaN</td>\n",
       "      <td>NaN</td>\n",
       "      <td>Tobefound</td>\n",
       "      <td>Afghanistan</td>\n",
       "      <td>2023-01-03 4:21</td>\n",
       "      <td>33.939110</td>\n",
       "      <td>67.709953</td>\n",
       "      <td>207627</td>\n",
       "      <td>7849</td>\n",
       "      <td>199778</td>\n",
       "      <td>NaN</td>\n",
       "      <td>Afghanistan</td>\n",
       "      <td>533.356919</td>\n",
       "      <td>3.780337</td>\n",
       "    </tr>\n",
       "    <tr>\n",
       "      <th>1</th>\n",
       "      <td>NaN</td>\n",
       "      <td>NaN</td>\n",
       "      <td>Tobefound</td>\n",
       "      <td>Albania</td>\n",
       "      <td>2023-01-03 4:21</td>\n",
       "      <td>41.153300</td>\n",
       "      <td>20.168300</td>\n",
       "      <td>333812</td>\n",
       "      <td>3595</td>\n",
       "      <td>330217</td>\n",
       "      <td>NaN</td>\n",
       "      <td>Albania</td>\n",
       "      <td>11599.555220</td>\n",
       "      <td>1.076953</td>\n",
       "    </tr>\n",
       "    <tr>\n",
       "      <th>2</th>\n",
       "      <td>NaN</td>\n",
       "      <td>NaN</td>\n",
       "      <td>Tobefound</td>\n",
       "      <td>Algeria</td>\n",
       "      <td>2023-01-03 4:21</td>\n",
       "      <td>28.033900</td>\n",
       "      <td>1.659600</td>\n",
       "      <td>271229</td>\n",
       "      <td>6881</td>\n",
       "      <td>264348</td>\n",
       "      <td>NaN</td>\n",
       "      <td>Algeria</td>\n",
       "      <td>618.523486</td>\n",
       "      <td>2.536971</td>\n",
       "    </tr>\n",
       "    <tr>\n",
       "      <th>3</th>\n",
       "      <td>NaN</td>\n",
       "      <td>NaN</td>\n",
       "      <td>Tobefound</td>\n",
       "      <td>Andorra</td>\n",
       "      <td>2023-01-03 4:21</td>\n",
       "      <td>42.506300</td>\n",
       "      <td>1.521800</td>\n",
       "      <td>47751</td>\n",
       "      <td>165</td>\n",
       "      <td>47586</td>\n",
       "      <td>NaN</td>\n",
       "      <td>Andorra</td>\n",
       "      <td>61801.591920</td>\n",
       "      <td>0.345543</td>\n",
       "    </tr>\n",
       "    <tr>\n",
       "      <th>4</th>\n",
       "      <td>NaN</td>\n",
       "      <td>NaN</td>\n",
       "      <td>Tobefound</td>\n",
       "      <td>Angola</td>\n",
       "      <td>2023-01-03 4:21</td>\n",
       "      <td>-11.202700</td>\n",
       "      <td>17.873900</td>\n",
       "      <td>105095</td>\n",
       "      <td>1930</td>\n",
       "      <td>103165</td>\n",
       "      <td>NaN</td>\n",
       "      <td>Angola</td>\n",
       "      <td>319.765542</td>\n",
       "      <td>1.836434</td>\n",
       "    </tr>\n",
       "    <tr>\n",
       "      <th>...</th>\n",
       "      <td>...</td>\n",
       "      <td>...</td>\n",
       "      <td>...</td>\n",
       "      <td>...</td>\n",
       "      <td>...</td>\n",
       "      <td>...</td>\n",
       "      <td>...</td>\n",
       "      <td>...</td>\n",
       "      <td>...</td>\n",
       "      <td>...</td>\n",
       "      <td>...</td>\n",
       "      <td>...</td>\n",
       "      <td>...</td>\n",
       "      <td>...</td>\n",
       "    </tr>\n",
       "    <tr>\n",
       "      <th>4011</th>\n",
       "      <td>NaN</td>\n",
       "      <td>NaN</td>\n",
       "      <td>Tobefound</td>\n",
       "      <td>West Bank and Gaza</td>\n",
       "      <td>2023-01-03 4:21</td>\n",
       "      <td>31.952200</td>\n",
       "      <td>35.233200</td>\n",
       "      <td>703228</td>\n",
       "      <td>5708</td>\n",
       "      <td>697520</td>\n",
       "      <td>NaN</td>\n",
       "      <td>West Bank and Gaza</td>\n",
       "      <td>13784.956960</td>\n",
       "      <td>0.811686</td>\n",
       "    </tr>\n",
       "    <tr>\n",
       "      <th>4012</th>\n",
       "      <td>NaN</td>\n",
       "      <td>NaN</td>\n",
       "      <td>Tobefound</td>\n",
       "      <td>Winter Olympics 2022</td>\n",
       "      <td>2023-01-03 4:21</td>\n",
       "      <td>39.904200</td>\n",
       "      <td>116.407400</td>\n",
       "      <td>535</td>\n",
       "      <td>0</td>\n",
       "      <td>535</td>\n",
       "      <td>NaN</td>\n",
       "      <td>Winter Olympics 2022</td>\n",
       "      <td>NaN</td>\n",
       "      <td>0.000000</td>\n",
       "    </tr>\n",
       "    <tr>\n",
       "      <th>4013</th>\n",
       "      <td>NaN</td>\n",
       "      <td>NaN</td>\n",
       "      <td>Tobefound</td>\n",
       "      <td>Yemen</td>\n",
       "      <td>2023-01-03 4:21</td>\n",
       "      <td>15.552727</td>\n",
       "      <td>48.516388</td>\n",
       "      <td>11945</td>\n",
       "      <td>2159</td>\n",
       "      <td>9786</td>\n",
       "      <td>NaN</td>\n",
       "      <td>Yemen</td>\n",
       "      <td>40.048994</td>\n",
       "      <td>18.074508</td>\n",
       "    </tr>\n",
       "    <tr>\n",
       "      <th>4014</th>\n",
       "      <td>NaN</td>\n",
       "      <td>NaN</td>\n",
       "      <td>Tobefound</td>\n",
       "      <td>Zambia</td>\n",
       "      <td>2023-01-03 4:21</td>\n",
       "      <td>-13.133897</td>\n",
       "      <td>27.849332</td>\n",
       "      <td>334661</td>\n",
       "      <td>4024</td>\n",
       "      <td>330637</td>\n",
       "      <td>NaN</td>\n",
       "      <td>Zambia</td>\n",
       "      <td>1820.397090</td>\n",
       "      <td>1.202411</td>\n",
       "    </tr>\n",
       "    <tr>\n",
       "      <th>4015</th>\n",
       "      <td>NaN</td>\n",
       "      <td>NaN</td>\n",
       "      <td>Tobefound</td>\n",
       "      <td>Zimbabwe</td>\n",
       "      <td>2023-01-03 4:21</td>\n",
       "      <td>-19.015438</td>\n",
       "      <td>29.154857</td>\n",
       "      <td>259981</td>\n",
       "      <td>5637</td>\n",
       "      <td>254344</td>\n",
       "      <td>NaN</td>\n",
       "      <td>Zimbabwe</td>\n",
       "      <td>1749.191125</td>\n",
       "      <td>2.168235</td>\n",
       "    </tr>\n",
       "  </tbody>\n",
       "</table>\n",
       "<p>4016 rows × 14 columns</p>\n",
       "</div>"
      ],
      "text/plain": [
       "      FIPS Admin2 Province_State        Country_Region      Last_Update  \\\n",
       "0      NaN    NaN      Tobefound           Afghanistan  2023-01-03 4:21   \n",
       "1      NaN    NaN      Tobefound               Albania  2023-01-03 4:21   \n",
       "2      NaN    NaN      Tobefound               Algeria  2023-01-03 4:21   \n",
       "3      NaN    NaN      Tobefound               Andorra  2023-01-03 4:21   \n",
       "4      NaN    NaN      Tobefound                Angola  2023-01-03 4:21   \n",
       "...    ...    ...            ...                   ...              ...   \n",
       "4011   NaN    NaN      Tobefound    West Bank and Gaza  2023-01-03 4:21   \n",
       "4012   NaN    NaN      Tobefound  Winter Olympics 2022  2023-01-03 4:21   \n",
       "4013   NaN    NaN      Tobefound                 Yemen  2023-01-03 4:21   \n",
       "4014   NaN    NaN      Tobefound                Zambia  2023-01-03 4:21   \n",
       "4015   NaN    NaN      Tobefound              Zimbabwe  2023-01-03 4:21   \n",
       "\n",
       "            Lat       Long_  Confirmed  Deaths  Recovered  Active  \\\n",
       "0     33.939110   67.709953     207627    7849     199778     NaN   \n",
       "1     41.153300   20.168300     333812    3595     330217     NaN   \n",
       "2     28.033900    1.659600     271229    6881     264348     NaN   \n",
       "3     42.506300    1.521800      47751     165      47586     NaN   \n",
       "4    -11.202700   17.873900     105095    1930     103165     NaN   \n",
       "...         ...         ...        ...     ...        ...     ...   \n",
       "4011  31.952200   35.233200     703228    5708     697520     NaN   \n",
       "4012  39.904200  116.407400        535       0        535     NaN   \n",
       "4013  15.552727   48.516388      11945    2159       9786     NaN   \n",
       "4014 -13.133897   27.849332     334661    4024     330637     NaN   \n",
       "4015 -19.015438   29.154857     259981    5637     254344     NaN   \n",
       "\n",
       "              Combined_Key  Incident_Rate  Case_Fatality_Ratio  \n",
       "0              Afghanistan     533.356919             3.780337  \n",
       "1                  Albania   11599.555220             1.076953  \n",
       "2                  Algeria     618.523486             2.536971  \n",
       "3                  Andorra   61801.591920             0.345543  \n",
       "4                   Angola     319.765542             1.836434  \n",
       "...                    ...            ...                  ...  \n",
       "4011    West Bank and Gaza   13784.956960             0.811686  \n",
       "4012  Winter Olympics 2022            NaN             0.000000  \n",
       "4013                 Yemen      40.048994            18.074508  \n",
       "4014                Zambia    1820.397090             1.202411  \n",
       "4015              Zimbabwe    1749.191125             2.168235  \n",
       "\n",
       "[4016 rows x 14 columns]"
      ]
     },
     "execution_count": 18,
     "metadata": {},
     "output_type": "execute_result"
    }
   ],
   "source": [
    "df"
   ]
  },
  {
   "cell_type": "code",
   "execution_count": 19,
   "metadata": {
    "colab": {
     "base_uri": "https://localhost:8080/"
    },
    "id": "IrE1zfi2B0eC",
    "outputId": "c9eb1ff2-c384-4b59-e104-c523777ee78a"
   },
   "outputs": [
    {
     "name": "stdout",
     "output_type": "stream",
     "text": [
      "   Confirmed  Confirmed_zscore\n",
      "0     207627          0.041081\n",
      "1     333812          0.161672\n",
      "2     271229          0.101863\n",
      "3      47751         -0.111709\n",
      "4     105095         -0.056907\n"
     ]
    }
   ],
   "source": [
    "#Normalize the values for “Confirmed” column as per the z-score.\n",
    "from scipy.stats import zscore\n",
    "\n",
    "# Normalize the 'Confirmed' column using Z-score\n",
    "df['Confirmed_zscore'] = zscore(df['Confirmed'])\n",
    "\n",
    "print(df[['Confirmed', 'Confirmed_zscore']].head())"
   ]
  },
  {
   "cell_type": "code",
   "execution_count": 20,
   "metadata": {
    "colab": {
     "base_uri": "https://localhost:8080/"
    },
    "id": "Yp8BbAcLCqPV",
    "outputId": "9c3e11e1-fb73-4e0b-d097-c1970d670f3e"
   },
   "outputs": [
    {
     "name": "stdout",
     "output_type": "stream",
     "text": [
      "0\n",
      "183348\n",
      "1667.2898406374502\n",
      "   Deaths    Deaths_bins\n",
      "0    7849  Extremly high\n",
      "1    3595  Extremly high\n",
      "2    6881  Extremly high\n",
      "3     165           High\n",
      "4    1930  Extremly high\n"
     ]
    }
   ],
   "source": [
    "\n",
    "#Create bin values for “Death” column in the data set.\n",
    "min_deaths = df['Deaths'].min()\n",
    "print(min_deaths)\n",
    "max_deaths = df['Deaths'].max()\n",
    "print(max_deaths)\n",
    "mean_deaths = df['Deaths'].mean()\n",
    "print(mean_deaths)\n",
    "\n",
    "df['Deaths_bins'] = pd.qcut(df['Deaths'], q=6, labels=['very low','Low', 'Medium', 'High', 'Very High', 'Extremly high'])\n",
    "\n",
    "# Display the first few rows to confirm\n",
    "print(df[['Deaths', 'Deaths_bins']].head())"
   ]
  },
  {
   "cell_type": "code",
   "execution_count": 21,
   "metadata": {
    "colab": {
     "base_uri": "https://localhost:8080/",
     "height": 472
    },
    "id": "YChwBH5DDO0F",
    "outputId": "294f400c-77d1-4dbd-839c-d12ea766013c"
   },
   "outputs": [
    {
     "data": {
      "image/png": "[encoded data removed]",
      "text/plain": [
       "<Figure size 640x480 with 1 Axes>"
      ]
     },
     "metadata": {},
     "output_type": "display_data"
    }
   ],
   "source": [
    "# Plot the histogram for the 'Deaths_bins' column\n",
    "\n",
    "plt.hist(df['Deaths_bins'], bins=6, color='#66b3ff', edgecolor='black')\n",
    "\n",
    "# to put the labels in order on the histogram\n",
    "bin_edges = pd.qcut(df['Deaths'], q=6).unique().categories  # Get bin edges\n",
    "bin_labels = ['Very Low', 'Low', 'Medium', 'High', 'Very High', 'Extremely High']\n",
    "\n",
    "# Set the correct x-tick labels to match the bin edges\n",
    "plt.xticks([i for i in range(6)], labels=bin_labels)\n",
    "\n",
    "\n",
    "# Set x/y labels and plot title\n",
    "plt.xlabel(\"Death cases\")\n",
    "plt.ylabel(\"Count\")\n",
    "plt.title(\"Distribution of Deaths cases\")\n",
    "\n",
    "# Display the plot\n",
    "plt.show()"
   ]
  },
  {
   "cell_type": "code",
   "execution_count": 22,
   "metadata": {
    "colab": {
     "base_uri": "https://localhost:8080/"
    },
    "id": "08vHetOEHrlo",
    "outputId": "a52cda7e-c975-442a-fbee-0efa8717ad34"
   },
   "outputs": [
    {
     "name": "stdout",
     "output_type": "stream",
     "text": [
      "           Country_Region  Confirmed  Deaths  Recovered  Active\n",
      "0             Afghanistan     207627    7849     199778     NaN\n",
      "1                 Albania     333812    3595     330217     NaN\n",
      "2                 Algeria     271229    6881     264348     NaN\n",
      "3                 Andorra      47751     165      47586     NaN\n",
      "4                  Angola     105095    1930     103165     NaN\n",
      "..                    ...        ...     ...        ...     ...\n",
      "196    West Bank and Gaza     703228    5708     697520     NaN\n",
      "197  Winter Olympics 2022        535       0        535     NaN\n",
      "198                 Yemen      11945    2159       9786     NaN\n",
      "199                Zambia     334661    4024     330637     NaN\n",
      "200              Zimbabwe     259981    5637     254344     NaN\n",
      "\n",
      "[201 rows x 5 columns]\n"
     ]
    }
   ],
   "source": [
    "#Write a Python program to get the maximum number of confirmed, deaths, recovered and active cases of Novel Coronavirus (COVID-19) Country wise.\n",
    "country_stats = df.groupby('Country_Region').agg({\n",
    "    'Confirmed': 'max',\n",
    "    'Deaths': 'max',\n",
    "    'Recovered': 'max',\n",
    "    'Active': 'max'\n",
    "}).reset_index()\n",
    "\n",
    "# Display the result\n",
    "print(country_stats)"
   ]
  },
  {
   "cell_type": "code",
   "execution_count": 23,
   "metadata": {
    "colab": {
     "base_uri": "https://localhost:8080/"
    },
    "id": "qyT7W_mJYWLA",
    "outputId": "949030a0-5116-4dc2-f997-ef4a5a54f99c"
   },
   "outputs": [
    {
     "name": "stdout",
     "output_type": "stream",
     "text": [
      "           Country_Region Province_State  Confirmed  Deaths  Recovered\n",
      "0             Afghanistan      Tobefound     207627    7849     199778\n",
      "1                 Albania      Tobefound     333812    3595     330217\n",
      "2                 Algeria      Tobefound     271229    6881     264348\n",
      "3                 Andorra      Tobefound      47751     165      47586\n",
      "4                  Angola      Tobefound     105095    1930     103165\n",
      "..                    ...            ...        ...     ...        ...\n",
      "791    West Bank and Gaza      Tobefound     703228    5708     697520\n",
      "792  Winter Olympics 2022      Tobefound        535       0        535\n",
      "793                 Yemen      Tobefound      11945    2159       9786\n",
      "794                Zambia      Tobefound     334661    4024     330637\n",
      "795              Zimbabwe      Tobefound     259981    5637     254344\n",
      "\n",
      "[796 rows x 5 columns]\n"
     ]
    }
   ],
   "source": [
    "#Write a Python program to get the total number of confirmed deaths and recovered people of Novel Coronavirus (COVID-19) cases Country/Region - Province/State wise\n",
    "province_stats = df.groupby(['Country_Region', 'Province_State']).agg({\n",
    "    'Confirmed': 'sum',\n",
    "    'Deaths': 'sum',\n",
    "    'Recovered': 'sum'\n",
    "}).reset_index()\n",
    "\n",
    "# Display the result\n",
    "print(province_stats)"
   ]
  },
  {
   "cell_type": "code",
   "execution_count": 24,
   "metadata": {
    "colab": {
     "base_uri": "https://localhost:8080/"
    },
    "id": "EWiqm-WZYb5g",
    "outputId": "f3a2070c-8de6-4b0a-f694-ecdb66669941"
   },
   "outputs": [
    {
     "name": "stdin",
     "output_type": "stream",
     "text": [
      "Enter the country name:  Yemen\n"
     ]
    },
    {
     "name": "stdout",
     "output_type": "stream",
     "text": [
      "COVID-19 Data for Yemen:\n",
      "Confirmed    11945\n",
      "Deaths        2159\n",
      "Recovered     9786\n",
      "dtype: int64\n"
     ]
    }
   ],
   "source": [
    "# Write a Python program to get the country-wise (country name taken as input from user) cases of confirmed, deaths, and recovered cases of Novel Coronavirus (COVID-19).\n",
    "# Get country name as input from the user\n",
    "country = input(\"Enter the country name: \")\n",
    "\n",
    "# Filter the dataset for the given country and aggregate the values\n",
    "country_data = df[df['Country_Region'] == country].agg({\n",
    "    'Confirmed': 'sum',\n",
    "    'Deaths': 'sum',\n",
    "    'Recovered': 'sum'\n",
    "})\n",
    "\n",
    "# Display the results\n",
    "print(f\"COVID-19 Data for {country}:\")\n",
    "print(country_data)"
   ]
  },
  {
   "cell_type": "code",
   "execution_count": null,
   "metadata": {
    "colab": {
     "base_uri": "https://localhost:8080/"
    },
    "id": "wvkj_1YecTy-",
    "outputId": "a5b022cf-790e-431e-d577-76b8a90a131d"
   },
   "outputs": [],
   "source": [
    "# Write a Python program to get the country-wise death cases of Novel Coronavirus (COVID-19).\n",
    "country = input(\"Enter the country name: \")\n",
    "\n",
    "# Filter the dataset for the given country and sum up the death cases\n",
    "total_deaths = df[df['Country_Region'] == country]['Deaths'].sum()\n",
    "\n",
    "# Display the result\n",
    "print(f\"Total COVID-19 Death Cases in {country}: {total_deaths}\")"
   ]
  },
  {
   "cell_type": "code",
   "execution_count": null,
   "metadata": {
    "colab": {
     "base_uri": "https://localhost:8080/"
    },
    "id": "cA43jGZnckRa",
    "outputId": "b1a79add-ec78-4e1c-d2cf-1129e5cfc187"
   },
   "outputs": [],
   "source": [
    "# Write a Python program to list countries with no cases of Novel Coronavirus (COVID-19).\n",
    "# Filter countries where confirmed cases are 0\n",
    "no_cases = df.groupby('Country_Region')['Confirmed'].sum() == 0\n",
    "\n",
    "df = df.dropna(subset=['Confirmed'])\n",
    "# Display the result\n",
    "print(\"Countries with no COVID-19 cases:\")\n",
    "print(no_cases[no_cases].index.tolist())"
   ]
  },
  {
   "cell_type": "code",
   "execution_count": null,
   "metadata": {
    "colab": {
     "base_uri": "https://localhost:8080/"
    },
    "id": "8fafHFBYdI0A",
    "outputId": "ad08f096-6ab2-46e7-9d4d-e0c162546371"
   },
   "outputs": [],
   "source": [
    "# Write a Python program to list countries where all cases of Novel Coronavirus (COVID-19) died.\n",
    " #Group by country and sum confirmed & death cases\n",
    "stats = df.groupby('Country_Region')[['Confirmed', 'Deaths']].sum()\n",
    "\n",
    "df = df.dropna(subset=['Confirmed', 'Deaths'])\n",
    "\n",
    "# Filter countries where all confirmed cases resulted in death\n",
    "result = stats[(stats['Confirmed'] > 0) & (stats['Confirmed'] == stats['Deaths'])]\n",
    "\n",
    "# Print the list of countries\n",
    "print(\"Countries where all COVID-19 cases died:\")\n",
    "print(result.index.tolist())"
   ]
  },
  {
   "cell_type": "code",
   "execution_count": null,
   "metadata": {
    "colab": {
     "base_uri": "https://localhost:8080/"
    },
    "id": "8w7uUsp9e2oQ",
    "outputId": "a31e1227-2022-474f-81e7-0251ab5228d5"
   },
   "outputs": [],
   "source": [
    "# Write a Python program to list countries with all cases of Novel Coronavirus (COVID-19) recovered.\n",
    "stats = df.groupby('Country_Region')[['Confirmed', 'Recovered']].sum()\n",
    "\n",
    "df = df.dropna(subset=['Confirmed', 'Recovered'])\n",
    "# Filter countries where all cases recovered\n",
    "result = stats[stats['Confirmed'] == stats['Recovered']]\n",
    "\n",
    "# Print the list of countries\n",
    "print(\"Countries where all COVID-19 cases recovered:\")\n",
    "print(result.index.tolist())\n"
   ]
  },
  {
   "cell_type": "code",
   "execution_count": null,
   "metadata": {
    "colab": {
     "base_uri": "https://localhost:8080/"
    },
    "id": "N2YcNbUXgYz6",
    "outputId": "cf550a1f-bd0a-4429-f4cb-a1d14360c867"
   },
   "outputs": [],
   "source": [
    "#Write a Python program to get the top 10 countries data (Last Update, Country/Region, Confirmed, Deaths, Recovered) of Novel Coronavirus (COVID-19).\n",
    "top_10_countries = df.groupby('Country_Region').agg({\n",
    "    'Last_Update': 'max',  # Get the latest update for each country\n",
    "    'Confirmed': 'sum',  # Sum of confirmed cases for each country\n",
    "    'Deaths': 'sum',  # Sum of deaths for each country\n",
    "    'Recovered': 'sum'  # Sum of recovered cases for each country\n",
    "}).sort_values('Confirmed', ascending=False).head(10)\n",
    "\n",
    "# Display the result\n",
    "print(\"Top 10 countries with the most COVID-19 cases:\")\n",
    "print(top_10_countries)"
   ]
  },
  {
   "cell_type": "code",
   "execution_count": null,
   "metadata": {
    "colab": {
     "base_uri": "https://localhost:8080/",
     "height": 761
    },
    "id": "qMGpC9fjgY77",
    "outputId": "b8183237-917e-4e67-e310-8d5e7fcda514"
   },
   "outputs": [],
   "source": [
    "# Write a Python program to create a plot (lines) of total deaths, confirmed, recovered, and active cases country-wise where deaths are greater than 150.\n",
    "# Group by country and sum confirmed, deaths, recovered, and active cases\n",
    "country_stats = df.groupby('Country_Region')[['Confirmed', 'Deaths', 'Recovered', 'Active']].sum()\n",
    "\n",
    "# Filter countries where deaths are greater than 150\n",
    "filtered_data = country_stats[country_stats['Deaths'] > 150]\n",
    "\n",
    "# Create a plot with a larger figure size\n",
    "plt.figure(figsize=(14, 8))  # Increased size for clarity\n",
    "\n",
    "# Plotting each case type as a line for the filtered countries\n",
    "plt.plot(filtered_data.index, filtered_data['Confirmed'], label='Confirmed', marker='o')\n",
    "plt.plot(filtered_data.index, filtered_data['Deaths'], label='Deaths', marker='o')\n",
    "plt.plot(filtered_data.index, filtered_data['Recovered'], label='Recovered', marker='o')\n",
    "plt.plot(filtered_data.index, filtered_data['Active'], label='Active', marker='o')\n",
    "\n",
    "# Adding labels and title\n",
    "plt.xlabel('Country')\n",
    "plt.ylabel('Total Cases')\n",
    "plt.title('Top 10 COVID-19 Countries by Confirmed Cases (Deaths > 150)')\n",
    "\n",
    "# Rotate x-axis labels for better readability\n",
    "plt.xticks(rotation=45, ha='right')  # Rotate 45 degrees and adjust alignment\n",
    "\n",
    "# Adjust layout to avoid overlap\n",
    "plt.subplots_adjust(bottom=0.2)  # Increase space at the bottom for clarity\n",
    "\n",
    "# Show the plot\n",
    "plt.legend(title='Case Types')\n",
    "plt.show()"
   ]
  },
  {
   "cell_type": "code",
   "execution_count": null,
   "metadata": {
    "colab": {
     "base_uri": "https://localhost:8080/",
     "height": 490
    },
    "id": "bztpj93bjtNo",
    "outputId": "cf3211c2-fb0d-4c34-c0ba-0ba7ba882616"
   },
   "outputs": [],
   "source": [
    "# Select the top 10 countries based on confirmed cases\n",
    "top_10_countries = filtered_data.nlargest(10, 'Confirmed')\n",
    "\n",
    "# Create a plot (horizontal bar plot)\n",
    "plt.figure(figsize=(14, 8))  # Increased size for clarity\n",
    "\n",
    "# Plotting each case type as bars for the filtered countries\n",
    "top_10_countries[['Confirmed', 'Deaths', 'Recovered', 'Active']].plot(kind='barh', stacked=False)\n",
    "\n",
    "# Adding labels and title\n",
    "plt.xlabel('Total Cases')\n",
    "plt.ylabel('Country')\n",
    "plt.title('Top 10 COVID-19 Countries by Confirmed Cases (Deaths > 150)')\n",
    "\n",
    "# Show the plot\n",
    "plt.legend(title='Case Types')\n",
    "plt.show()\n"
   ]
  },
  {
   "cell_type": "code",
   "execution_count": null,
   "metadata": {
    "id": "ZcFsw63NlL2o"
   },
   "outputs": [],
   "source": []
  }
 ],
 "metadata": {
  "colab": {
   "provenance": []
  },
  "kernelspec": {
   "display_name": "Python [conda env:base] *",
   "language": "python",
   "name": "conda-base-py"
  },
  "language_info": {
   "codemirror_mode": {
    "name": "ipython",
    "version": 3
   },
   "file_extension": ".py",
   "mimetype": "text/x-python",
   "name": "python",
   "nbconvert_exporter": "python",
   "pygments_lexer": "ipython3",
   "version": "3.12.7"
  }
 },
 "nbformat": 4,
 "nbformat_minor": 4
}
