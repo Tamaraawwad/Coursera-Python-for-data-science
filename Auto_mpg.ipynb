{
  "metadata": {
    "kernelspec": {
      "name": "python",
      "display_name": "Python (Pyodide)",
      "language": "python"
    },
    "language_info": {
      "codemirror_mode": {
        "name": "python",
        "version": 3
      },
      "file_extension": ".py",
      "mimetype": "text/x-python",
      "name": "python",
      "nbconvert_exporter": "python",
      "pygments_lexer": "ipython3",
      "version": "3.8"
    }
  },
  "nbformat_minor": 5,
  "nbformat": 4,
  "cells": [
    {
      "id": "4b61efff-480a-4504-a43c-e84abedaa990",
      "cell_type": "markdown",
      "source": "Download the auto-mpg dataset and do the following:\n1. Drop column Origin from the dataset.\n2. Find out all the missing values in the dataset and replace it with its most\nappropriate replacement.\nFinding out missing values: We can use .sum() method after\napplying .isnull() this will return sum of missing values within each columns in\nthe dataframe.\nimport pandas as pd\ndf = pd.read_csv('IMDB-Movie-Data.csv')\ndf.isnull().sum()\n3. Find and remove duplicate entries for the column ‘ CAR Number’\n4. Get the basic insights:\n✔ Display the first five and last five rows\n✔ Display all the column names in the dataset\n✔ Display the concise summary of your dataset\n✔ Display the name of the car with maximum number of horsepower.",
      "metadata": {}
    },
    {
      "id": "b1855818-3425-4e00-a3a6-741b6751e179",
      "cell_type": "code",
      "source": "\nimport pandas as pd\nimport numpy as np\nimport micropip \nawait micropip.install('openpyxl')\ndf=pd.read_excel(\"auto-mpg .xlsx\")",
      "metadata": {
        "trusted": true
      },
      "outputs": [],
      "execution_count": 24
    },
    {
      "id": "5ad9a9da-f70f-4135-9bf0-b5697eab2c06",
      "cell_type": "code",
      "source": "df.head()",
      "metadata": {
        "trusted": true
      },
      "outputs": [
        {
          "execution_count": 25,
          "output_type": "execute_result",
          "data": {
            "text/plain": "   mpg  cylinders  displacement  horsepower  weight  acceleration  model year  \\\n0   18          8         307.0         130    3504          12.0        70.0   \n1   15          8         350.0         165    3693          11.5        70.0   \n2   18          8         318.0         150    3436          11.0        70.0   \n3   16          8         304.0         150    3433          12.0        70.0   \n4   17          8         302.0         140    3449          10.5        70.0   \n\n   origin                   car name CAR Number  \n0       1  chevrolet chevelle malibu    L6V 043  \n1       1          buick skylark 320     RTY079  \n2       1         plymouth satellite     MTP600  \n3       1              amc rebel sst     MNJ000  \n4       1                ford torino   JEETMEET  ",
            "text/html": "<div>\n<style scoped>\n    .dataframe tbody tr th:only-of-type {\n        vertical-align: middle;\n    }\n\n    .dataframe tbody tr th {\n        vertical-align: top;\n    }\n\n    .dataframe thead th {\n        text-align: right;\n    }\n</style>\n<table border=\"1\" class=\"dataframe\">\n  <thead>\n    <tr style=\"text-align: right;\">\n      <th></th>\n      <th>mpg</th>\n      <th>cylinders</th>\n      <th>displacement</th>\n      <th>horsepower</th>\n      <th>weight</th>\n      <th>acceleration</th>\n      <th>model year</th>\n      <th>origin</th>\n      <th>car name</th>\n      <th>CAR Number</th>\n    </tr>\n  </thead>\n  <tbody>\n    <tr>\n      <th>0</th>\n      <td>18</td>\n      <td>8</td>\n      <td>307.0</td>\n      <td>130</td>\n      <td>3504</td>\n      <td>12.0</td>\n      <td>70.0</td>\n      <td>1</td>\n      <td>chevrolet chevelle malibu</td>\n      <td>L6V 043</td>\n    </tr>\n    <tr>\n      <th>1</th>\n      <td>15</td>\n      <td>8</td>\n      <td>350.0</td>\n      <td>165</td>\n      <td>3693</td>\n      <td>11.5</td>\n      <td>70.0</td>\n      <td>1</td>\n      <td>buick skylark 320</td>\n      <td>RTY079</td>\n    </tr>\n    <tr>\n      <th>2</th>\n      <td>18</td>\n      <td>8</td>\n      <td>318.0</td>\n      <td>150</td>\n      <td>3436</td>\n      <td>11.0</td>\n      <td>70.0</td>\n      <td>1</td>\n      <td>plymouth satellite</td>\n      <td>MTP600</td>\n    </tr>\n    <tr>\n      <th>3</th>\n      <td>16</td>\n      <td>8</td>\n      <td>304.0</td>\n      <td>150</td>\n      <td>3433</td>\n      <td>12.0</td>\n      <td>70.0</td>\n      <td>1</td>\n      <td>amc rebel sst</td>\n      <td>MNJ000</td>\n    </tr>\n    <tr>\n      <th>4</th>\n      <td>17</td>\n      <td>8</td>\n      <td>302.0</td>\n      <td>140</td>\n      <td>3449</td>\n      <td>10.5</td>\n      <td>70.0</td>\n      <td>1</td>\n      <td>ford torino</td>\n      <td>JEETMEET</td>\n    </tr>\n  </tbody>\n</table>\n</div>"
          },
          "metadata": {}
        }
      ],
      "execution_count": 25
    },
    {
      "id": "ce76356e-5bf8-4a29-b115-286b66e2494a",
      "cell_type": "code",
      "source": "df.drop(\"origin\",axis=1,inplace=True)\ndf.head()",
      "metadata": {
        "trusted": true
      },
      "outputs": [
        {
          "execution_count": 26,
          "output_type": "execute_result",
          "data": {
            "text/plain": "   mpg  cylinders  displacement  horsepower  weight  acceleration  model year  \\\n0   18          8         307.0         130    3504          12.0        70.0   \n1   15          8         350.0         165    3693          11.5        70.0   \n2   18          8         318.0         150    3436          11.0        70.0   \n3   16          8         304.0         150    3433          12.0        70.0   \n4   17          8         302.0         140    3449          10.5        70.0   \n\n                    car name CAR Number  \n0  chevrolet chevelle malibu    L6V 043  \n1          buick skylark 320     RTY079  \n2         plymouth satellite     MTP600  \n3              amc rebel sst     MNJ000  \n4                ford torino   JEETMEET  ",
            "text/html": "<div>\n<style scoped>\n    .dataframe tbody tr th:only-of-type {\n        vertical-align: middle;\n    }\n\n    .dataframe tbody tr th {\n        vertical-align: top;\n    }\n\n    .dataframe thead th {\n        text-align: right;\n    }\n</style>\n<table border=\"1\" class=\"dataframe\">\n  <thead>\n    <tr style=\"text-align: right;\">\n      <th></th>\n      <th>mpg</th>\n      <th>cylinders</th>\n      <th>displacement</th>\n      <th>horsepower</th>\n      <th>weight</th>\n      <th>acceleration</th>\n      <th>model year</th>\n      <th>car name</th>\n      <th>CAR Number</th>\n    </tr>\n  </thead>\n  <tbody>\n    <tr>\n      <th>0</th>\n      <td>18</td>\n      <td>8</td>\n      <td>307.0</td>\n      <td>130</td>\n      <td>3504</td>\n      <td>12.0</td>\n      <td>70.0</td>\n      <td>chevrolet chevelle malibu</td>\n      <td>L6V 043</td>\n    </tr>\n    <tr>\n      <th>1</th>\n      <td>15</td>\n      <td>8</td>\n      <td>350.0</td>\n      <td>165</td>\n      <td>3693</td>\n      <td>11.5</td>\n      <td>70.0</td>\n      <td>buick skylark 320</td>\n      <td>RTY079</td>\n    </tr>\n    <tr>\n      <th>2</th>\n      <td>18</td>\n      <td>8</td>\n      <td>318.0</td>\n      <td>150</td>\n      <td>3436</td>\n      <td>11.0</td>\n      <td>70.0</td>\n      <td>plymouth satellite</td>\n      <td>MTP600</td>\n    </tr>\n    <tr>\n      <th>3</th>\n      <td>16</td>\n      <td>8</td>\n      <td>304.0</td>\n      <td>150</td>\n      <td>3433</td>\n      <td>12.0</td>\n      <td>70.0</td>\n      <td>amc rebel sst</td>\n      <td>MNJ000</td>\n    </tr>\n    <tr>\n      <th>4</th>\n      <td>17</td>\n      <td>8</td>\n      <td>302.0</td>\n      <td>140</td>\n      <td>3449</td>\n      <td>10.5</td>\n      <td>70.0</td>\n      <td>ford torino</td>\n      <td>JEETMEET</td>\n    </tr>\n  </tbody>\n</table>\n</div>"
          },
          "metadata": {}
        }
      ],
      "execution_count": 26
    },
    {
      "id": "47e4380b-2bcd-4cfd-adda-038a0e6c5bf7",
      "cell_type": "code",
      "source": "df.isnull().sum()",
      "metadata": {
        "trusted": true
      },
      "outputs": [
        {
          "execution_count": 27,
          "output_type": "execute_result",
          "data": {
            "text/plain": "mpg             0\ncylinders       0\ndisplacement    0\nhorsepower      0\nweight          0\nacceleration    2\nmodel year      2\ncar name        0\nCAR Number      7\ndtype: int64"
          },
          "metadata": {}
        }
      ],
      "execution_count": 27
    },
    {
      "id": "af7d7d98-37bb-4d9f-a1ac-d6217da5a0e2",
      "cell_type": "code",
      "source": "import numpy as np\nmean=df[\"acceleration\"].mean()\ndf[\"acceleration\"].replace(np.nan,mean,inplace=True)\ndf.isnull().sum()",
      "metadata": {
        "trusted": true
      },
      "outputs": [
        {
          "name": "stderr",
          "output_type": "stream",
          "text": "<ipython-input-28-b0ee80961133>:3: FutureWarning: A value is trying to be set on a copy of a DataFrame or Series through chained assignment using an inplace method.\nThe behavior will change in pandas 3.0. This inplace method will never work because the intermediate object on which we are setting values always behaves as a copy.\n\nFor example, when doing 'df[col].method(value, inplace=True)', try using 'df.method({col: value}, inplace=True)' or df[col] = df[col].method(value) instead, to perform the operation inplace on the original object.\n\n\n  df[\"acceleration\"].replace(np.nan,mean,inplace=True)\n"
        },
        {
          "execution_count": 28,
          "output_type": "execute_result",
          "data": {
            "text/plain": "mpg             0\ncylinders       0\ndisplacement    0\nhorsepower      0\nweight          0\nacceleration    0\nmodel year      2\ncar name        0\nCAR Number      7\ndtype: int64"
          },
          "metadata": {}
        }
      ],
      "execution_count": 28
    },
    {
      "id": "f5f5e40d-d32a-4db5-8fbd-3e06e796b532",
      "cell_type": "code",
      "source": "# Replace missing values with the most appropriate replacement\nfor column in df.columns:\n    if df[column].isnull().sum() > 0:\n        if df[column].dtype == 'object':\n            # Fill categorical columns with the mode\n            df[column].fillna(df[column].mode()[0], inplace=True)\n        else:\n            # Fill numerical columns with the median\n            df[column].fillna(df[column].median(), inplace=True)\n\nprint(\"Missing Values after handling:\\n\", df.isnull().sum())",
      "metadata": {
        "trusted": true
      },
      "outputs": [],
      "execution_count": null
    },
    {
      "id": "1e8734eb-3008-48db-b5d2-536310464b84",
      "cell_type": "code",
      "source": "freq=df[\"model year\"].value_counts().idxmax()\ndf[\"model year\"].replace(np.nan,freq,inplace=True)\ndf.isnull().sum()",
      "metadata": {
        "trusted": true
      },
      "outputs": [
        {
          "name": "stderr",
          "output_type": "stream",
          "text": "<ipython-input-29-d50ef567f011>:2: FutureWarning: A value is trying to be set on a copy of a DataFrame or Series through chained assignment using an inplace method.\nThe behavior will change in pandas 3.0. This inplace method will never work because the intermediate object on which we are setting values always behaves as a copy.\n\nFor example, when doing 'df[col].method(value, inplace=True)', try using 'df.method({col: value}, inplace=True)' or df[col] = df[col].method(value) instead, to perform the operation inplace on the original object.\n\n\n  df[\"model year\"].replace(np.nan,freq,inplace=True)\n"
        },
        {
          "execution_count": 29,
          "output_type": "execute_result",
          "data": {
            "text/plain": "mpg             0\ncylinders       0\ndisplacement    0\nhorsepower      0\nweight          0\nacceleration    0\nmodel year      0\ncar name        0\nCAR Number      7\ndtype: int64"
          },
          "metadata": {}
        }
      ],
      "execution_count": 29
    },
    {
      "id": "9c41aa78-f125-421e-b358-f9b318de9658",
      "cell_type": "code",
      "source": "df.info()",
      "metadata": {
        "trusted": true
      },
      "outputs": [
        {
          "name": "stdout",
          "output_type": "stream",
          "text": "<class 'pandas.core.frame.DataFrame'>\nRangeIndex: 98 entries, 0 to 97\nData columns (total 9 columns):\n #   Column        Non-Null Count  Dtype  \n---  ------        --------------  -----  \n 0   mpg           98 non-null     int64  \n 1   cylinders     98 non-null     int64  \n 2   displacement  98 non-null     float64\n 3   horsepower    98 non-null     int64  \n 4   weight        98 non-null     int64  \n 5   acceleration  98 non-null     float64\n 6   model year    98 non-null     float64\n 7   car name      98 non-null     object \n 8   CAR Number    91 non-null     object \ndtypes: float64(3), int64(4), object(2)\nmemory usage: 6.2+ KB\n"
        }
      ],
      "execution_count": 30
    },
    {
      "id": "2f1a53b5-9863-4f6c-b34b-ae68331a8437",
      "cell_type": "code",
      "source": "df.dropna(subset=['CAR Number'],axis=0,inplace=True)\ndf.isnull().sum()\n\n",
      "metadata": {
        "trusted": true
      },
      "outputs": [
        {
          "execution_count": 31,
          "output_type": "execute_result",
          "data": {
            "text/plain": "mpg             0\ncylinders       0\ndisplacement    0\nhorsepower      0\nweight          0\nacceleration    0\nmodel year      0\ncar name        0\nCAR Number      0\ndtype: int64"
          },
          "metadata": {}
        }
      ],
      "execution_count": 31
    },
    {
      "id": "1cbf8d14-a694-4f88-95d4-f1459d26acc9",
      "cell_type": "code",
      "source": "df.drop_duplicates(subset=['CAR Number'],inplace=True)\ndf['CAR Number'].value_counts()\n\n# Remove duplicate entries based on 'CAR Number'\nif 'CAR Number' in df.columns:\n    df.drop_duplicates(subset=['CAR Number'], keep='first', inplace=True)\n    print(\"Duplicates removed based on 'CAR Number'\")",
      "metadata": {
        "trusted": true
      },
      "outputs": [
        {
          "execution_count": 32,
          "output_type": "execute_result",
          "data": {
            "text/plain": "CAR Number\nL6V 043    1\nET4457     1\nABC346     1\nSEE467     1\nMAST36     1\n          ..\nHGVG69     1\nJHGY59     1\nJHJGH38    1\nIUHU63G    1\nHUYT76     1\nName: count, Length: 89, dtype: int64"
          },
          "metadata": {}
        }
      ],
      "execution_count": 32
    },
    {
      "id": "9755c61e-bea9-42f1-b716-450c512de207",
      "cell_type": "code",
      "source": "df.head()",
      "metadata": {
        "trusted": true
      },
      "outputs": [
        {
          "execution_count": 33,
          "output_type": "execute_result",
          "data": {
            "text/plain": "   mpg  cylinders  displacement  horsepower  weight  acceleration  model year  \\\n0   18          8         307.0         130    3504          12.0        70.0   \n1   15          8         350.0         165    3693          11.5        70.0   \n2   18          8         318.0         150    3436          11.0        70.0   \n3   16          8         304.0         150    3433          12.0        70.0   \n4   17          8         302.0         140    3449          10.5        70.0   \n\n                    car name CAR Number  \n0  chevrolet chevelle malibu    L6V 043  \n1          buick skylark 320     RTY079  \n2         plymouth satellite     MTP600  \n3              amc rebel sst     MNJ000  \n4                ford torino   JEETMEET  ",
            "text/html": "<div>\n<style scoped>\n    .dataframe tbody tr th:only-of-type {\n        vertical-align: middle;\n    }\n\n    .dataframe tbody tr th {\n        vertical-align: top;\n    }\n\n    .dataframe thead th {\n        text-align: right;\n    }\n</style>\n<table border=\"1\" class=\"dataframe\">\n  <thead>\n    <tr style=\"text-align: right;\">\n      <th></th>\n      <th>mpg</th>\n      <th>cylinders</th>\n      <th>displacement</th>\n      <th>horsepower</th>\n      <th>weight</th>\n      <th>acceleration</th>\n      <th>model year</th>\n      <th>car name</th>\n      <th>CAR Number</th>\n    </tr>\n  </thead>\n  <tbody>\n    <tr>\n      <th>0</th>\n      <td>18</td>\n      <td>8</td>\n      <td>307.0</td>\n      <td>130</td>\n      <td>3504</td>\n      <td>12.0</td>\n      <td>70.0</td>\n      <td>chevrolet chevelle malibu</td>\n      <td>L6V 043</td>\n    </tr>\n    <tr>\n      <th>1</th>\n      <td>15</td>\n      <td>8</td>\n      <td>350.0</td>\n      <td>165</td>\n      <td>3693</td>\n      <td>11.5</td>\n      <td>70.0</td>\n      <td>buick skylark 320</td>\n      <td>RTY079</td>\n    </tr>\n    <tr>\n      <th>2</th>\n      <td>18</td>\n      <td>8</td>\n      <td>318.0</td>\n      <td>150</td>\n      <td>3436</td>\n      <td>11.0</td>\n      <td>70.0</td>\n      <td>plymouth satellite</td>\n      <td>MTP600</td>\n    </tr>\n    <tr>\n      <th>3</th>\n      <td>16</td>\n      <td>8</td>\n      <td>304.0</td>\n      <td>150</td>\n      <td>3433</td>\n      <td>12.0</td>\n      <td>70.0</td>\n      <td>amc rebel sst</td>\n      <td>MNJ000</td>\n    </tr>\n    <tr>\n      <th>4</th>\n      <td>17</td>\n      <td>8</td>\n      <td>302.0</td>\n      <td>140</td>\n      <td>3449</td>\n      <td>10.5</td>\n      <td>70.0</td>\n      <td>ford torino</td>\n      <td>JEETMEET</td>\n    </tr>\n  </tbody>\n</table>\n</div>"
          },
          "metadata": {}
        }
      ],
      "execution_count": 33
    },
    {
      "id": "488dae8d-0788-46ac-bd4f-59b1c0c0d2b3",
      "cell_type": "code",
      "source": "df.tail()",
      "metadata": {
        "trusted": true
      },
      "outputs": [
        {
          "execution_count": 34,
          "output_type": "execute_result",
          "data": {
            "text/plain": "    mpg  cylinders  displacement  horsepower  weight  acceleration  \\\n93   14          8         318.0         150    4237          14.5   \n94   13          8         440.0         215    4735          11.0   \n95   12          8         455.0         225    4951          11.0   \n96   13          8         360.0         175    3821          11.0   \n97   18          6         225.0         105    3121          16.5   \n\n    model year                      car name CAR Number  \n93        73.0      plymouth fury gran sedan     FGTEE4  \n94        73.0  chrysler new yorker brougham     GTTYR6  \n95        73.0      buick electra 225 custom    TTGGT53  \n96        73.0       amc ambassador brougham    TGTYY67  \n97        73.0              plymouth valiant     HUYT76  ",
            "text/html": "<div>\n<style scoped>\n    .dataframe tbody tr th:only-of-type {\n        vertical-align: middle;\n    }\n\n    .dataframe tbody tr th {\n        vertical-align: top;\n    }\n\n    .dataframe thead th {\n        text-align: right;\n    }\n</style>\n<table border=\"1\" class=\"dataframe\">\n  <thead>\n    <tr style=\"text-align: right;\">\n      <th></th>\n      <th>mpg</th>\n      <th>cylinders</th>\n      <th>displacement</th>\n      <th>horsepower</th>\n      <th>weight</th>\n      <th>acceleration</th>\n      <th>model year</th>\n      <th>car name</th>\n      <th>CAR Number</th>\n    </tr>\n  </thead>\n  <tbody>\n    <tr>\n      <th>93</th>\n      <td>14</td>\n      <td>8</td>\n      <td>318.0</td>\n      <td>150</td>\n      <td>4237</td>\n      <td>14.5</td>\n      <td>73.0</td>\n      <td>plymouth fury gran sedan</td>\n      <td>FGTEE4</td>\n    </tr>\n    <tr>\n      <th>94</th>\n      <td>13</td>\n      <td>8</td>\n      <td>440.0</td>\n      <td>215</td>\n      <td>4735</td>\n      <td>11.0</td>\n      <td>73.0</td>\n      <td>chrysler new yorker brougham</td>\n      <td>GTTYR6</td>\n    </tr>\n    <tr>\n      <th>95</th>\n      <td>12</td>\n      <td>8</td>\n      <td>455.0</td>\n      <td>225</td>\n      <td>4951</td>\n      <td>11.0</td>\n      <td>73.0</td>\n      <td>buick electra 225 custom</td>\n      <td>TTGGT53</td>\n    </tr>\n    <tr>\n      <th>96</th>\n      <td>13</td>\n      <td>8</td>\n      <td>360.0</td>\n      <td>175</td>\n      <td>3821</td>\n      <td>11.0</td>\n      <td>73.0</td>\n      <td>amc ambassador brougham</td>\n      <td>TGTYY67</td>\n    </tr>\n    <tr>\n      <th>97</th>\n      <td>18</td>\n      <td>6</td>\n      <td>225.0</td>\n      <td>105</td>\n      <td>3121</td>\n      <td>16.5</td>\n      <td>73.0</td>\n      <td>plymouth valiant</td>\n      <td>HUYT76</td>\n    </tr>\n  </tbody>\n</table>\n</div>"
          },
          "metadata": {}
        }
      ],
      "execution_count": 34
    },
    {
      "id": "685c97cd-87b5-47ac-b553-32436675475a",
      "cell_type": "code",
      "source": "df.columns",
      "metadata": {
        "trusted": true
      },
      "outputs": [
        {
          "execution_count": 35,
          "output_type": "execute_result",
          "data": {
            "text/plain": "Index(['mpg', 'cylinders', 'displacement', 'horsepower', 'weight',\n       'acceleration', 'model year', 'car name', 'CAR Number'],\n      dtype='object')"
          },
          "metadata": {}
        }
      ],
      "execution_count": 35
    },
    {
      "id": "ee09164d-cfbe-45e8-89eb-dd5f78aac5bc",
      "cell_type": "code",
      "source": "df.info()",
      "metadata": {
        "trusted": true
      },
      "outputs": [
        {
          "name": "stdout",
          "output_type": "stream",
          "text": "<class 'pandas.core.frame.DataFrame'>\nIndex: 89 entries, 0 to 97\nData columns (total 9 columns):\n #   Column        Non-Null Count  Dtype  \n---  ------        --------------  -----  \n 0   mpg           89 non-null     int64  \n 1   cylinders     89 non-null     int64  \n 2   displacement  89 non-null     float64\n 3   horsepower    89 non-null     int64  \n 4   weight        89 non-null     int64  \n 5   acceleration  89 non-null     float64\n 6   model year    89 non-null     float64\n 7   car name      89 non-null     object \n 8   CAR Number    89 non-null     object \ndtypes: float64(3), int64(4), object(2)\nmemory usage: 6.3+ KB\n"
        }
      ],
      "execution_count": 36
    },
    {
      "id": "5cebc9f1-b8d3-4345-9a3a-2d504ca445d0",
      "cell_type": "markdown",
      "source": "In our dataset, the fuel consumption column is \"mpg\" and is represented by mpg\n(miles per gallon) unit. Assume we are developing an application in a country\nthat accepts fuel consumption with the L/100km standard. change the name of\nthe column to \"L/100km\".\n6. Normalize the column “Weight” so that the values range from 0 to 1\n7. Normalization is the process of transforming values of several variables into a\nsimilar range. Typical normalizations include scaling the variable so the variable\naverage is 0, scaling the variable so the variance is 1, or scaling variable so the\nvariable values range from 0 to 1\n8. Approach: replace original value by (original value)/(maximum value)\n9. In our dataset, \"horsepower\" is a real valued variable ranging from 48 to 288, it\nhas 57 unique values. What if we only care about the price difference between\ncars with high horsepower, medium horsepower, and little horsepower (3\ntypes)? Can we rearrange them into three ‘bins' to simplify analysis?\n10. We will use the Pandas method 'cut' to segment the 'horsepower' column into 3\nbins",
      "metadata": {}
    },
    {
      "id": "b212fac6-67ce-4844-8cdd-833e4128f6f4",
      "cell_type": "code",
      "source": "# Find the car with the maximum horsepower (225) using loc\nmax_hp_car = df.loc[df['horsepower'] == 225, ['car name', 'horsepower']]\nprint(\"\\nCar with maximum horsepower (225):\\n\", max_hp_car)\n\n# alternative way\nm=df['horsepower'].max()\nmax_hp_car = df[df['horsepower'] == m]\nprint(\"\\nCar with maximum horsepower (225):\\n\", max_hp_car[['car name', 'horsepower']])\n",
      "metadata": {
        "trusted": true
      },
      "outputs": [
        {
          "name": "stdout",
          "output_type": "stream",
          "text": "\nCar with maximum horsepower (225):\n                     car name  horsepower\n8           pontiac catalina         225\n13   buick estate wagon (sw)         225\n95  buick electra 225 custom         225\n"
        }
      ],
      "execution_count": 37
    },
    {
      "id": "dac58077-5e12-450f-93b6-6c873cbd33a7",
      "cell_type": "code",
      "source": "df[\"mpg\"]=235/df[\"mpg\"]\ndf.rename(columns={\"mpg\": \"L/100km\"}, inplace=True)",
      "metadata": {
        "trusted": true
      },
      "outputs": [],
      "execution_count": 38
    },
    {
      "id": "bbbd58a4-ef4c-4db1-b94b-0f4855add906",
      "cell_type": "code",
      "source": "df.head()",
      "metadata": {
        "trusted": true
      },
      "outputs": [
        {
          "execution_count": 39,
          "output_type": "execute_result",
          "data": {
            "text/plain": "     L/100km  cylinders  displacement  horsepower  weight  acceleration  \\\n0  13.055556          8         307.0         130    3504          12.0   \n1  15.666667          8         350.0         165    3693          11.5   \n2  13.055556          8         318.0         150    3436          11.0   \n3  14.687500          8         304.0         150    3433          12.0   \n4  13.823529          8         302.0         140    3449          10.5   \n\n   model year                   car name CAR Number  \n0        70.0  chevrolet chevelle malibu    L6V 043  \n1        70.0          buick skylark 320     RTY079  \n2        70.0         plymouth satellite     MTP600  \n3        70.0              amc rebel sst     MNJ000  \n4        70.0                ford torino   JEETMEET  ",
            "text/html": "<div>\n<style scoped>\n    .dataframe tbody tr th:only-of-type {\n        vertical-align: middle;\n    }\n\n    .dataframe tbody tr th {\n        vertical-align: top;\n    }\n\n    .dataframe thead th {\n        text-align: right;\n    }\n</style>\n<table border=\"1\" class=\"dataframe\">\n  <thead>\n    <tr style=\"text-align: right;\">\n      <th></th>\n      <th>L/100km</th>\n      <th>cylinders</th>\n      <th>displacement</th>\n      <th>horsepower</th>\n      <th>weight</th>\n      <th>acceleration</th>\n      <th>model year</th>\n      <th>car name</th>\n      <th>CAR Number</th>\n    </tr>\n  </thead>\n  <tbody>\n    <tr>\n      <th>0</th>\n      <td>13.055556</td>\n      <td>8</td>\n      <td>307.0</td>\n      <td>130</td>\n      <td>3504</td>\n      <td>12.0</td>\n      <td>70.0</td>\n      <td>chevrolet chevelle malibu</td>\n      <td>L6V 043</td>\n    </tr>\n    <tr>\n      <th>1</th>\n      <td>15.666667</td>\n      <td>8</td>\n      <td>350.0</td>\n      <td>165</td>\n      <td>3693</td>\n      <td>11.5</td>\n      <td>70.0</td>\n      <td>buick skylark 320</td>\n      <td>RTY079</td>\n    </tr>\n    <tr>\n      <th>2</th>\n      <td>13.055556</td>\n      <td>8</td>\n      <td>318.0</td>\n      <td>150</td>\n      <td>3436</td>\n      <td>11.0</td>\n      <td>70.0</td>\n      <td>plymouth satellite</td>\n      <td>MTP600</td>\n    </tr>\n    <tr>\n      <th>3</th>\n      <td>14.687500</td>\n      <td>8</td>\n      <td>304.0</td>\n      <td>150</td>\n      <td>3433</td>\n      <td>12.0</td>\n      <td>70.0</td>\n      <td>amc rebel sst</td>\n      <td>MNJ000</td>\n    </tr>\n    <tr>\n      <th>4</th>\n      <td>13.823529</td>\n      <td>8</td>\n      <td>302.0</td>\n      <td>140</td>\n      <td>3449</td>\n      <td>10.5</td>\n      <td>70.0</td>\n      <td>ford torino</td>\n      <td>JEETMEET</td>\n    </tr>\n  </tbody>\n</table>\n</div>"
          },
          "metadata": {}
        }
      ],
      "execution_count": 39
    },
    {
      "id": "f36889cf-021b-471e-a487-b1c2b21ff0c1",
      "cell_type": "code",
      "source": "df[\"weight\"]=df[\"weight\"]/df[\"weight\"].max()\ndf.head()",
      "metadata": {
        "trusted": true
      },
      "outputs": [
        {
          "execution_count": 40,
          "output_type": "execute_result",
          "data": {
            "text/plain": "     L/100km  cylinders  displacement  horsepower    weight  acceleration  \\\n0  13.055556          8         307.0         130  0.681712          12.0   \n1  15.666667          8         350.0         165  0.718482          11.5   \n2  13.055556          8         318.0         150  0.668482          11.0   \n3  14.687500          8         304.0         150  0.667899          12.0   \n4  13.823529          8         302.0         140  0.671012          10.5   \n\n   model year                   car name CAR Number  \n0        70.0  chevrolet chevelle malibu    L6V 043  \n1        70.0          buick skylark 320     RTY079  \n2        70.0         plymouth satellite     MTP600  \n3        70.0              amc rebel sst     MNJ000  \n4        70.0                ford torino   JEETMEET  ",
            "text/html": "<div>\n<style scoped>\n    .dataframe tbody tr th:only-of-type {\n        vertical-align: middle;\n    }\n\n    .dataframe tbody tr th {\n        vertical-align: top;\n    }\n\n    .dataframe thead th {\n        text-align: right;\n    }\n</style>\n<table border=\"1\" class=\"dataframe\">\n  <thead>\n    <tr style=\"text-align: right;\">\n      <th></th>\n      <th>L/100km</th>\n      <th>cylinders</th>\n      <th>displacement</th>\n      <th>horsepower</th>\n      <th>weight</th>\n      <th>acceleration</th>\n      <th>model year</th>\n      <th>car name</th>\n      <th>CAR Number</th>\n    </tr>\n  </thead>\n  <tbody>\n    <tr>\n      <th>0</th>\n      <td>13.055556</td>\n      <td>8</td>\n      <td>307.0</td>\n      <td>130</td>\n      <td>0.681712</td>\n      <td>12.0</td>\n      <td>70.0</td>\n      <td>chevrolet chevelle malibu</td>\n      <td>L6V 043</td>\n    </tr>\n    <tr>\n      <th>1</th>\n      <td>15.666667</td>\n      <td>8</td>\n      <td>350.0</td>\n      <td>165</td>\n      <td>0.718482</td>\n      <td>11.5</td>\n      <td>70.0</td>\n      <td>buick skylark 320</td>\n      <td>RTY079</td>\n    </tr>\n    <tr>\n      <th>2</th>\n      <td>13.055556</td>\n      <td>8</td>\n      <td>318.0</td>\n      <td>150</td>\n      <td>0.668482</td>\n      <td>11.0</td>\n      <td>70.0</td>\n      <td>plymouth satellite</td>\n      <td>MTP600</td>\n    </tr>\n    <tr>\n      <th>3</th>\n      <td>14.687500</td>\n      <td>8</td>\n      <td>304.0</td>\n      <td>150</td>\n      <td>0.667899</td>\n      <td>12.0</td>\n      <td>70.0</td>\n      <td>amc rebel sst</td>\n      <td>MNJ000</td>\n    </tr>\n    <tr>\n      <th>4</th>\n      <td>13.823529</td>\n      <td>8</td>\n      <td>302.0</td>\n      <td>140</td>\n      <td>0.671012</td>\n      <td>10.5</td>\n      <td>70.0</td>\n      <td>ford torino</td>\n      <td>JEETMEET</td>\n    </tr>\n  </tbody>\n</table>\n</div>"
          },
          "metadata": {}
        }
      ],
      "execution_count": 40
    },
    {
      "id": "f3e9ddc6-cc23-4a1b-874e-7442f1591b66",
      "cell_type": "code",
      "source": "\n#bins = [48, 120, 200, 288]  # low, medium, high horsepower\n#labels = ['Low', 'Medium', 'High']  # labels for the bins\n\ndf['horsepower_bins'] = pd.qcut(df['horsepower'], q=3, labels=['Low', 'Medium', 'High'])\n\n# Create a new 'horsepower_bins' column based on horsepower\n#df['horsepower_bins'] = pd.cut(df['horsepower'], bins=bins, labels=labels, right=True)\n\n# Display the first few rows to confirm the new column\nprint(df[['car name', 'horsepower', 'horsepower_bins']].head())",
      "metadata": {
        "trusted": true
      },
      "outputs": [
        {
          "name": "stdout",
          "output_type": "stream",
          "text": "                    car name  horsepower horsepower_bins\n0  chevrolet chevelle malibu         130          Medium\n1          buick skylark 320         165            High\n2         plymouth satellite         150          Medium\n3              amc rebel sst         150          Medium\n4                ford torino         140          Medium\n"
        }
      ],
      "execution_count": 42
    },
    {
      "id": "fa60791e-099f-473a-8ef5-be7ad50a2a3f",
      "cell_type": "code",
      "source": "#11. Use a histogram to visualize the distribution of bins we created above.\nfrom matplotlib import pyplot as plt\n\n# Draw histogram of the 'horsepower' column with 3 bins\nplt.hist(df[\"horsepower\"], bins=3)\n\n# Set x/y labels and plot title\nplt.xlabel(\"Horsepower\")\nplt.ylabel(\"Count\")\nplt.title(\"Horsepower Bins\")\n\n# Display the plot\nplt.show()",
      "metadata": {
        "trusted": true
      },
      "outputs": [
        {
          "output_type": "display_data",
          "data": {
            "text/plain": "<Figure size 640x480 with 1 Axes>",
            "image/png": "[encoded data removed]"
          },
          "metadata": {}
        }
      ],
      "execution_count": 48
    },
    {
      "id": "c510bfcb-469a-44cb-a5b7-a752ef394e75",
      "cell_type": "markdown",
      "source": "\n12. Detect outliers using Z-score and remove them",
      "metadata": {}
    },
    {
      "id": "b9b4e3b8-4471-4061-9453-ee392be4acb0",
      "cell_type": "code",
      "source": "from scipy.stats import zscore\n\n# Calculate Z-scores for the 'horsepower' column\ndf['horsepower_zscore'] = zscore(df['horsepower'])\n\n# Find outliers with Z-score greater than 3 or less than -3\noutliers = df[df['horsepower_zscore'].abs() > 3]\n\n# Remove outliers from the dataframe\ndf_no_outliers = df[df['horsepower_zscore'].abs() <= 3]\n\n# Display outliers\nprint(\"Outliers detected based on Z-score:\\n\", outliers[['car name', 'horsepower', 'horsepower_zscore']])\n\n# Display the first few rows of the dataframe after removing outliers\nprint(\"\\nData after removing outliers:\\n\", df_no_outliers.head())\n",
      "metadata": {
        "trusted": true
      },
      "outputs": [
        {
          "name": "stdout",
          "output_type": "stream",
          "text": "Outliers detected based on Z-score:\n Empty DataFrame\nColumns: [car name, horsepower, horsepower_zscore]\nIndex: []\n\nData after removing outliers:\n      L/100km  cylinders  displacement  horsepower    weight  acceleration  \\\n0  13.055556          8         307.0         130  0.681712          12.0   \n1  15.666667          8         350.0         165  0.718482          11.5   \n2  13.055556          8         318.0         150  0.668482          11.0   \n3  14.687500          8         304.0         150  0.667899          12.0   \n4  13.823529          8         302.0         140  0.671012          10.5   \n\n   model year                   car name CAR Number horsepower_bins  \\\n0        70.0  chevrolet chevelle malibu    L6V 043          Medium   \n1        70.0          buick skylark 320     RTY079            High   \n2        70.0         plymouth satellite     MTP600          Medium   \n3        70.0              amc rebel sst     MNJ000          Medium   \n4        70.0                ford torino   JEETMEET          Medium   \n\n   horsepower_zscore  \n0          -0.038427  \n1           0.700469  \n2           0.383799  \n3           0.383799  \n4           0.172686  \n"
        }
      ],
      "execution_count": 49
    },
    {
      "id": "70131289-c6db-4d32-a3f9-ba9dfd121ddb",
      "cell_type": "code",
      "source": "outliers = df[df['horsepower_zscore'].abs() > 3]",
      "metadata": {
        "trusted": true
      },
      "outputs": [],
      "execution_count": 54
    },
    {
      "id": "8a1fc5e0-b3ac-48f6-9d3d-d5d118f30962",
      "cell_type": "code",
      "source": "outliers",
      "metadata": {
        "trusted": true
      },
      "outputs": [
        {
          "execution_count": 55,
          "output_type": "execute_result",
          "data": {
            "text/plain": "Empty DataFrame\nColumns: [L/100km, cylinders, displacement, horsepower, weight, acceleration, model year, car name, CAR Number, horsepower_bins, horsepower_zscore]\nIndex: []",
            "text/html": "<div>\n<style scoped>\n    .dataframe tbody tr th:only-of-type {\n        vertical-align: middle;\n    }\n\n    .dataframe tbody tr th {\n        vertical-align: top;\n    }\n\n    .dataframe thead th {\n        text-align: right;\n    }\n</style>\n<table border=\"1\" class=\"dataframe\">\n  <thead>\n    <tr style=\"text-align: right;\">\n      <th></th>\n      <th>L/100km</th>\n      <th>cylinders</th>\n      <th>displacement</th>\n      <th>horsepower</th>\n      <th>weight</th>\n      <th>acceleration</th>\n      <th>model year</th>\n      <th>car name</th>\n      <th>CAR Number</th>\n      <th>horsepower_bins</th>\n      <th>horsepower_zscore</th>\n    </tr>\n  </thead>\n  <tbody>\n  </tbody>\n</table>\n</div>"
          },
          "metadata": {}
        }
      ],
      "execution_count": 55
    },
    {
      "id": "72d57148-f9e8-4f33-9f9c-027352279d71",
      "cell_type": "code",
      "source": "df['acceleration_zscore'] = zscore(df['acceleration'])\n\n# Set a threshold to identify outliers (e.g., Z-score > 3 or < -3)\nthreshold = 3\ndf_no_outliers = df[df['acceleration_zscore'].abs() <= threshold]\n\n# Display the number of rows before and after removing outliers\nprint(f\"Original dataset size: {df.shape[0]}\")\nprint(f\"Dataset size after removing outliers: {df_no_outliers.shape[0]}\")",
      "metadata": {
        "trusted": true
      },
      "outputs": [
        {
          "name": "stdout",
          "output_type": "stream",
          "text": "Original dataset size: 89\nDataset size after removing outliers: 88\n"
        }
      ],
      "execution_count": 56
    },
    {
      "id": "f31c1e12-43dc-42d5-b4d4-02b0caa6d377",
      "cell_type": "code",
      "source": "",
      "metadata": {
        "trusted": true
      },
      "outputs": [],
      "execution_count": null
    }
  ]
}